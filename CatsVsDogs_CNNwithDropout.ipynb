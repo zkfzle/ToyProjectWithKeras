{
 "cells": [
  {
   "cell_type": "markdown",
   "metadata": {},
   "source": [
    "### 针对Kaggle的猫、狗数据，训练一个模型做分类"
   ]
  },
  {
   "cell_type": "markdown",
   "metadata": {},
   "source": [
    "## Data Preparation"
   ]
  },
  {
   "cell_type": "markdown",
   "metadata": {},
   "source": [
    "### define data dir"
   ]
  },
  {
   "cell_type": "code",
   "execution_count": 18,
   "metadata": {},
   "outputs": [],
   "source": [
    "import os\n",
    "base_dir = 'E:\\Data\\CatsDogs\\ForWork'\n",
    "train_dir = base_dir + '\\\\train'\n",
    "validation_dir = base_dir + '\\\\validation'\n",
    "train_dogs_dir = base_dir + '\\\\train\\dogs'\n",
    "train_cats_dir = base_dir + '\\\\train\\cats'\n",
    "test_dogs_dir = base_dir + '\\\\test\\dogs'\n",
    "test_cats_dir = base_dir + '\\\\test\\cats'\n",
    "validation_dogs_dir = base_dir + '\\\\validation\\dogs'\n",
    "validation_cats_dir = base_dir + '\\\\validation\\cats'"
   ]
  },
  {
   "cell_type": "markdown",
   "metadata": {},
   "source": [
    "### load data in generator form"
   ]
  },
  {
   "cell_type": "code",
   "execution_count": 22,
   "metadata": {},
   "outputs": [
    {
     "name": "stdout",
     "output_type": "stream",
     "text": [
      "Found 2000 images belonging to 2 classes.\n",
      "Found 1000 images belonging to 2 classes.\n"
     ]
    }
   ],
   "source": [
    "from keras.preprocessing.image import ImageDataGenerator\n",
    "\n",
    "# 0~255缩放到0~1\n",
    "train_datagen = ImageDataGenerator(rescale=1./255)\n",
    "validation_datagen = ImageDataGenerator(rescale=1./255)\n",
    "\n",
    "# 从train目录进行load，则自动分为了2类\n",
    "train_generator = train_datagen.flow_from_directory(train_dir,\n",
    "                                                   target_size=(150,150),\n",
    "                                                   batch_size=20,\n",
    "                                                   class_mode='binary')\n",
    "validation_generator = validation_datagen.flow_from_directory(validation_dir,\n",
    "                                                   target_size=(150,150),\n",
    "                                                   batch_size=20,\n",
    "                                                   class_mode='binary')"
   ]
  },
  {
   "cell_type": "markdown",
   "metadata": {},
   "source": [
    "## Model build"
   ]
  },
  {
   "cell_type": "code",
   "execution_count": 30,
   "metadata": {},
   "outputs": [
    {
     "name": "stdout",
     "output_type": "stream",
     "text": [
      "_________________________________________________________________\n",
      "Layer (type)                 Output Shape              Param #   \n",
      "=================================================================\n",
      "conv2d_13 (Conv2D)           (None, 148, 148, 32)      896       \n",
      "_________________________________________________________________\n",
      "max_pooling2d_13 (MaxPooling (None, 74, 74, 32)        0         \n",
      "_________________________________________________________________\n",
      "conv2d_14 (Conv2D)           (None, 72, 72, 64)        18496     \n",
      "_________________________________________________________________\n",
      "max_pooling2d_14 (MaxPooling (None, 36, 36, 64)        0         \n",
      "_________________________________________________________________\n",
      "conv2d_15 (Conv2D)           (None, 34, 34, 128)       73856     \n",
      "_________________________________________________________________\n",
      "max_pooling2d_15 (MaxPooling (None, 17, 17, 128)       0         \n",
      "_________________________________________________________________\n",
      "conv2d_16 (Conv2D)           (None, 15, 15, 128)       147584    \n",
      "_________________________________________________________________\n",
      "max_pooling2d_16 (MaxPooling (None, 7, 7, 128)         0         \n",
      "_________________________________________________________________\n",
      "flatten_4 (Flatten)          (None, 6272)              0         \n",
      "_________________________________________________________________\n",
      "dense_7 (Dense)              (None, 512)               3211776   \n",
      "_________________________________________________________________\n",
      "dense_8 (Dense)              (None, 1)                 513       \n",
      "=================================================================\n",
      "Total params: 3,453,121\n",
      "Trainable params: 3,453,121\n",
      "Non-trainable params: 0\n",
      "_________________________________________________________________\n"
     ]
    }
   ],
   "source": [
    "from keras import layers\n",
    "from keras import models\n",
    "\n",
    "model = models.Sequential()\n",
    "model.add(layers.Conv2D(32, (3,3), activation='relu', input_shape=(150,150,3)))\n",
    "model.add(layers.MaxPooling2D((2,2)))\n",
    "model.add(layers.Conv2D(64, (3,3), activation='relu'))\n",
    "model.add(layers.MaxPooling2D((2,2)))\n",
    "model.add(layers.Conv2D(128, (3,3), activation='relu'))\n",
    "model.add(layers.MaxPooling2D((2,2)))\n",
    "model.add(layers.Conv2D(128, (3,3), activation='relu'))\n",
    "model.add(layers.MaxPooling2D((2,2)))\n",
    "model.add(layers.Flatten())\n",
    "model.add(layers.Dense(512, activation='relu'))\n",
    "model.add(layers.Dense(1, activation='sigmoid'))\n",
    "model.summary()"
   ]
  },
  {
   "cell_type": "code",
   "execution_count": 31,
   "metadata": {},
   "outputs": [],
   "source": [
    "from keras import optimizers\n",
    "model.compile(loss='binary_crossentropy',\n",
    "             optimizer=optimizers.RMSprop(lr=1e-4),\n",
    "             metrics=['acc'])"
   ]
  },
  {
   "cell_type": "code",
   "execution_count": 32,
   "metadata": {},
   "outputs": [
    {
     "name": "stdout",
     "output_type": "stream",
     "text": [
      "Epoch 1/30\n",
      "100/100 [==============================] - 10s 97ms/step - loss: 0.6924 - acc: 0.5405 - val_loss: 0.6810 - val_acc: 0.5740\n",
      "Epoch 2/30\n",
      "100/100 [==============================] - 9s 87ms/step - loss: 0.6562 - acc: 0.6240 - val_loss: 0.6439 - val_acc: 0.6300\n",
      "Epoch 3/30\n",
      "100/100 [==============================] - 8s 80ms/step - loss: 0.6101 - acc: 0.6635 - val_loss: 0.6317 - val_acc: 0.6450\n",
      "Epoch 4/30\n",
      "100/100 [==============================] - 7s 73ms/step - loss: 0.5703 - acc: 0.6970 - val_loss: 0.6008 - val_acc: 0.6650\n",
      "Epoch 5/30\n",
      "100/100 [==============================] - 7s 73ms/step - loss: 0.5475 - acc: 0.7075 - val_loss: 0.5870 - val_acc: 0.6820\n",
      "Epoch 6/30\n",
      "100/100 [==============================] - 7s 73ms/step - loss: 0.5244 - acc: 0.7355 - val_loss: 0.6157 - val_acc: 0.6510\n",
      "Epoch 7/30\n",
      "100/100 [==============================] - 7s 74ms/step - loss: 0.4964 - acc: 0.7580 - val_loss: 0.5765 - val_acc: 0.7020\n",
      "Epoch 8/30\n",
      "100/100 [==============================] - 8s 75ms/step - loss: 0.4717 - acc: 0.7800 - val_loss: 0.5828 - val_acc: 0.7000\n",
      "Epoch 9/30\n",
      "100/100 [==============================] - 8s 80ms/step - loss: 0.4427 - acc: 0.7940 - val_loss: 0.6398 - val_acc: 0.6570\n",
      "Epoch 10/30\n",
      "100/100 [==============================] - 8s 75ms/step - loss: 0.4195 - acc: 0.8130 - val_loss: 0.5651 - val_acc: 0.7140\n",
      "Epoch 11/30\n",
      "100/100 [==============================] - 7s 72ms/step - loss: 0.3922 - acc: 0.8275 - val_loss: 0.6084 - val_acc: 0.7020\n",
      "Epoch 12/30\n",
      "100/100 [==============================] - 8s 81ms/step - loss: 0.3768 - acc: 0.8365 - val_loss: 0.5574 - val_acc: 0.7240\n",
      "Epoch 13/30\n",
      "100/100 [==============================] - 8s 79ms/step - loss: 0.3460 - acc: 0.8505 - val_loss: 0.5850 - val_acc: 0.7190\n",
      "Epoch 14/30\n",
      "100/100 [==============================] - 7s 73ms/step - loss: 0.3287 - acc: 0.8575 - val_loss: 0.6186 - val_acc: 0.7160\n",
      "Epoch 15/30\n",
      "100/100 [==============================] - 7s 71ms/step - loss: 0.3057 - acc: 0.8730 - val_loss: 0.5699 - val_acc: 0.7290\n",
      "Epoch 16/30\n",
      "100/100 [==============================] - 7s 74ms/step - loss: 0.2778 - acc: 0.8845 - val_loss: 0.5923 - val_acc: 0.7280\n",
      "Epoch 17/30\n",
      "100/100 [==============================] - 7s 74ms/step - loss: 0.2733 - acc: 0.8825 - val_loss: 0.5919 - val_acc: 0.7290\n",
      "Epoch 18/30\n",
      "100/100 [==============================] - 16s 158ms/step - loss: 0.2348 - acc: 0.9085 - val_loss: 0.6258 - val_acc: 0.7400\n",
      "Epoch 19/30\n",
      "100/100 [==============================] - 23s 225ms/step - loss: 0.2290 - acc: 0.9100 - val_loss: 0.6490 - val_acc: 0.7280\n",
      "Epoch 20/30\n",
      "100/100 [==============================] - 22s 225ms/step - loss: 0.2050 - acc: 0.9265 - val_loss: 0.6418 - val_acc: 0.7290\n",
      "Epoch 21/30\n",
      "100/100 [==============================] - 22s 224ms/step - loss: 0.1819 - acc: 0.9335 - val_loss: 0.7068 - val_acc: 0.7150\n",
      "Epoch 22/30\n",
      "100/100 [==============================] - 22s 224ms/step - loss: 0.1592 - acc: 0.9415 - val_loss: 0.7094 - val_acc: 0.7450\n",
      "Epoch 23/30\n",
      "100/100 [==============================] - 22s 225ms/step - loss: 0.1435 - acc: 0.9440 - val_loss: 0.7088 - val_acc: 0.7400\n",
      "Epoch 24/30\n",
      "100/100 [==============================] - 22s 223ms/step - loss: 0.1267 - acc: 0.9535 - val_loss: 0.8124 - val_acc: 0.7210\n",
      "Epoch 25/30\n",
      "100/100 [==============================] - 22s 224ms/step - loss: 0.1080 - acc: 0.9655 - val_loss: 0.7886 - val_acc: 0.7390\n",
      "Epoch 26/30\n",
      "100/100 [==============================] - 22s 224ms/step - loss: 0.1040 - acc: 0.9715 - val_loss: 0.8506 - val_acc: 0.7320\n",
      "Epoch 27/30\n",
      "100/100 [==============================] - 22s 224ms/step - loss: 0.0859 - acc: 0.9780 - val_loss: 0.8295 - val_acc: 0.7410\n",
      "Epoch 28/30\n",
      "100/100 [==============================] - 22s 224ms/step - loss: 0.0784 - acc: 0.9735 - val_loss: 0.8640 - val_acc: 0.7300\n",
      "Epoch 29/30\n",
      "100/100 [==============================] - 22s 223ms/step - loss: 0.0662 - acc: 0.9830 - val_loss: 0.8980 - val_acc: 0.7370\n",
      "Epoch 30/30\n",
      "100/100 [==============================] - 22s 224ms/step - loss: 0.0577 - acc: 0.9830 - val_loss: 0.9765 - val_acc: 0.7290\n"
     ]
    }
   ],
   "source": [
    "history = model.fit_generator(train_generator,\n",
    "                             steps_per_epoch=100,\n",
    "                             epochs=30,\n",
    "                             validation_data = validation_generator,\n",
    "                             validation_steps = 50)"
   ]
  },
  {
   "cell_type": "markdown",
   "metadata": {},
   "source": [
    "### Draw train and validation loss"
   ]
  },
  {
   "cell_type": "code",
   "execution_count": 44,
   "metadata": {},
   "outputs": [
    {
     "data": {
      "image/png": "[encoded data removed]",
      "text/plain": [
       "<Figure size 432x288 with 1 Axes>"
      ]
     },
     "metadata": {},
     "output_type": "display_data"
    },
    {
     "data": {
      "image/png": "[encoded data removed]",
      "text/plain": [
       "<Figure size 432x288 with 1 Axes>"
      ]
     },
     "metadata": {},
     "output_type": "display_data"
    }
   ],
   "source": [
    "import matplotlib.pyplot as plt\n",
    "history_dict = history.history\n",
    "acc = history_dict['acc']\n",
    "val_acc = history_dict['val_acc']\n",
    "loss = history_dict['loss']\n",
    "val_loss = history_dict['val_loss']\n",
    "\n",
    "epoches = range(1, len(val_loss) + 1)\n",
    "\n",
    "plt.plot(epoches, acc, 'bo', label='Train Acc')\n",
    "plt.plot(epoches, val_acc, 'ro', label='Validation Acc')\n",
    "plt.title(\"Train and Validation Acc\")\n",
    "plt.xlabel('Epochs')\n",
    "plt.ylabel('Acc')\n",
    "plt.legend()\n",
    "\n",
    "plt.figure()\n",
    "plt.plot(epoches, loss, 'b', label = 'Train Loss')\n",
    "plt.plot(epoches, val_loss, 'r', label = 'Validation Loss')\n",
    "plt.title(\"Train and Validation Loss\")\n",
    "plt.xlabel('Epochs')\n",
    "plt.ylabel('Loss')\n",
    "plt.legend()\n",
    "plt.show()"
   ]
  },
  {
   "cell_type": "markdown",
   "metadata": {},
   "source": [
    "- 从图上可以看到，在训练到10个epochs之后，训练进入过拟合。在validation集合上loss迅速上升，acc基本不变。因此需要引入对数据的增强。"
   ]
  },
  {
   "cell_type": "markdown",
   "metadata": {},
   "source": [
    "## Data Augmented"
   ]
  },
  {
   "cell_type": "code",
   "execution_count": 46,
   "metadata": {},
   "outputs": [
    {
     "name": "stdout",
     "output_type": "stream",
     "text": [
      "_________________________________________________________________\n",
      "Layer (type)                 Output Shape              Param #   \n",
      "=================================================================\n",
      "conv2d_21 (Conv2D)           (None, 148, 148, 32)      896       \n",
      "_________________________________________________________________\n",
      "max_pooling2d_21 (MaxPooling (None, 74, 74, 32)        0         \n",
      "_________________________________________________________________\n",
      "conv2d_22 (Conv2D)           (None, 72, 72, 64)        18496     \n",
      "_________________________________________________________________\n",
      "max_pooling2d_22 (MaxPooling (None, 36, 36, 64)        0         \n",
      "_________________________________________________________________\n",
      "conv2d_23 (Conv2D)           (None, 34, 34, 128)       73856     \n",
      "_________________________________________________________________\n",
      "max_pooling2d_23 (MaxPooling (None, 17, 17, 128)       0         \n",
      "_________________________________________________________________\n",
      "conv2d_24 (Conv2D)           (None, 15, 15, 128)       147584    \n",
      "_________________________________________________________________\n",
      "max_pooling2d_24 (MaxPooling (None, 7, 7, 128)         0         \n",
      "_________________________________________________________________\n",
      "flatten_6 (Flatten)          (None, 6272)              0         \n",
      "_________________________________________________________________\n",
      "dropout_2 (Dropout)          (None, 6272)              0         \n",
      "_________________________________________________________________\n",
      "dense_11 (Dense)             (None, 512)               3211776   \n",
      "_________________________________________________________________\n",
      "dense_12 (Dense)             (None, 1)                 513       \n",
      "=================================================================\n",
      "Total params: 3,453,121\n",
      "Trainable params: 3,453,121\n",
      "Non-trainable params: 0\n",
      "_________________________________________________________________\n"
     ]
    }
   ],
   "source": [
    "del model\n",
    "model = models.Sequential()\n",
    "model.add(layers.Conv2D(32, (3,3), activation='relu', input_shape=(150,150,3)))\n",
    "model.add(layers.MaxPooling2D((2,2)))\n",
    "model.add(layers.Conv2D(64, (3,3), activation='relu'))\n",
    "model.add(layers.MaxPooling2D((2,2)))\n",
    "model.add(layers.Conv2D(128, (3,3), activation='relu'))\n",
    "model.add(layers.MaxPooling2D((2,2)))\n",
    "model.add(layers.Conv2D(128, (3,3), activation='relu'))\n",
    "model.add(layers.MaxPooling2D((2,2)))\n",
    "model.add(layers.Flatten())\n",
    "# 增加了一个dropout层\n",
    "model.add(layers.Dropout(0.5))\n",
    "model.add(layers.Dense(512, activation='relu'))\n",
    "model.add(layers.Dense(1, activation='sigmoid'))\n",
    "model.summary()"
   ]
  },
  {
   "cell_type": "code",
   "execution_count": 47,
   "metadata": {},
   "outputs": [],
   "source": [
    "model.compile(loss='binary_crossentropy',\n",
    "             optimizer=optimizers.RMSprop(lr=1e-4),\n",
    "             metrics=['acc'])"
   ]
  },
  {
   "cell_type": "code",
   "execution_count": 51,
   "metadata": {},
   "outputs": [
    {
     "name": "stdout",
     "output_type": "stream",
     "text": [
      "Found 2000 images belonging to 2 classes.\n",
      "Found 1000 images belonging to 2 classes.\n"
     ]
    }
   ],
   "source": [
    "train_datagen = ImageDataGenerator(rescale=1./255,\n",
    "                                   rotation_range=40,\n",
    "                                   width_shift_range=0.2,\n",
    "                                   height_shift_range=0.2,\n",
    "                                   shear_range=0.2,\n",
    "                                   zoom_range=0.2,\n",
    "                                   horizontal_flip=True,)\n",
    "validation_datagen = ImageDataGenerator(rescale=1./255)\n",
    "train_generator = train_datagen.flow_from_directory(train_dir,\n",
    "                                                   target_size=(150,150),\n",
    "                                                   batch_size=32,\n",
    "                                                   class_mode='binary')\n",
    "validation_generator = validation_datagen.flow_from_directory(validation_dir,\n",
    "                                                   target_size=(150,150),\n",
    "                                                   batch_size=32,\n",
    "                                                   class_mode='binary')"
   ]
  },
  {
   "cell_type": "code",
   "execution_count": 54,
   "metadata": {},
   "outputs": [
    {
     "name": "stdout",
     "output_type": "stream",
     "text": [
      "Epoch 1/30\n",
      "100/100 [==============================] - 27s 271ms/step - loss: 0.6511 - acc: 0.6175 - val_loss: 0.6563 - val_acc: 0.5984\n",
      "Epoch 2/30\n",
      "100/100 [==============================] - 25s 246ms/step - loss: 0.6330 - acc: 0.6384 - val_loss: 0.5899 - val_acc: 0.6791\n",
      "Epoch 3/30\n",
      "100/100 [==============================] - 26s 265ms/step - loss: 0.6158 - acc: 0.6581 - val_loss: 0.5786 - val_acc: 0.7056\n",
      "Epoch 4/30\n",
      "100/100 [==============================] - 25s 249ms/step - loss: 0.6040 - acc: 0.6762 - val_loss: 0.5694 - val_acc: 0.6991\n",
      "Epoch 5/30\n",
      "100/100 [==============================] - 26s 259ms/step - loss: 0.5898 - acc: 0.6919 - val_loss: 0.5481 - val_acc: 0.7170\n",
      "Epoch 6/30\n",
      "100/100 [==============================] - 26s 262ms/step - loss: 0.5907 - acc: 0.6859 - val_loss: 0.5501 - val_acc: 0.7191\n",
      "Epoch 7/30\n",
      "100/100 [==============================] - 26s 262ms/step - loss: 0.5743 - acc: 0.7013 - val_loss: 0.5367 - val_acc: 0.7164\n",
      "Epoch 8/30\n",
      "100/100 [==============================] - 26s 263ms/step - loss: 0.5736 - acc: 0.7016 - val_loss: 0.5802 - val_acc: 0.6701\n",
      "Epoch 9/30\n",
      "100/100 [==============================] - 26s 264ms/step - loss: 0.5451 - acc: 0.7259 - val_loss: 0.5595 - val_acc: 0.7081\n",
      "Epoch 10/30\n",
      "100/100 [==============================] - 25s 248ms/step - loss: 0.5520 - acc: 0.7181 - val_loss: 0.5783 - val_acc: 0.6891\n",
      "Epoch 11/30\n",
      "100/100 [==============================] - 28s 275ms/step - loss: 0.5478 - acc: 0.7166 - val_loss: 0.4995 - val_acc: 0.7526\n",
      "Epoch 12/30\n",
      "100/100 [==============================] - 25s 248ms/step - loss: 0.5427 - acc: 0.7372 - val_loss: 0.5135 - val_acc: 0.7506\n",
      "Epoch 13/30\n",
      "100/100 [==============================] - 25s 246ms/step - loss: 0.5251 - acc: 0.7394 - val_loss: 0.5101 - val_acc: 0.7416\n",
      "Epoch 14/30\n",
      "100/100 [==============================] - 26s 258ms/step - loss: 0.5403 - acc: 0.7209 - val_loss: 0.5122 - val_acc: 0.7373\n",
      "Epoch 15/30\n",
      "100/100 [==============================] - 25s 252ms/step - loss: 0.5203 - acc: 0.7294 - val_loss: 0.4965 - val_acc: 0.7642\n",
      "Epoch 16/30\n",
      "100/100 [==============================] - 26s 263ms/step - loss: 0.5310 - acc: 0.7244 - val_loss: 0.4881 - val_acc: 0.7629\n",
      "Epoch 17/30\n",
      "100/100 [==============================] - 24s 236ms/step - loss: 0.5171 - acc: 0.7434 - val_loss: 0.4776 - val_acc: 0.7671\n",
      "Epoch 18/30\n",
      "100/100 [==============================] - 27s 275ms/step - loss: 0.5077 - acc: 0.7472 - val_loss: 0.5067 - val_acc: 0.7390\n",
      "Epoch 19/30\n",
      "100/100 [==============================] - 25s 247ms/step - loss: 0.5046 - acc: 0.7497 - val_loss: 0.7933 - val_acc: 0.6555\n",
      "Epoch 20/30\n",
      "100/100 [==============================] - 25s 247ms/step - loss: 0.5028 - acc: 0.7512 - val_loss: 0.4973 - val_acc: 0.7500\n",
      "Epoch 21/30\n",
      "100/100 [==============================] - 24s 235ms/step - loss: 0.5031 - acc: 0.7459 - val_loss: 0.4825 - val_acc: 0.7551\n",
      "Epoch 22/30\n",
      "100/100 [==============================] - 24s 238ms/step - loss: 0.4998 - acc: 0.7475 - val_loss: 0.4713 - val_acc: 0.7751\n",
      "Epoch 23/30\n",
      "100/100 [==============================] - 25s 248ms/step - loss: 0.4946 - acc: 0.7563 - val_loss: 0.5628 - val_acc: 0.7164\n",
      "Epoch 24/30\n",
      "100/100 [==============================] - 24s 239ms/step - loss: 0.4918 - acc: 0.7606 - val_loss: 0.4631 - val_acc: 0.7771\n",
      "Epoch 25/30\n",
      "100/100 [==============================] - 24s 236ms/step - loss: 0.4952 - acc: 0.7637 - val_loss: 0.4681 - val_acc: 0.7784\n",
      "Epoch 26/30\n",
      "100/100 [==============================] - 25s 246ms/step - loss: 0.4828 - acc: 0.7609 - val_loss: 0.4585 - val_acc: 0.7849\n",
      "Epoch 27/30\n",
      "100/100 [==============================] - 25s 246ms/step - loss: 0.4682 - acc: 0.7759 - val_loss: 0.4550 - val_acc: 0.7809\n",
      "Epoch 28/30\n",
      "100/100 [==============================] - 25s 248ms/step - loss: 0.4767 - acc: 0.7741 - val_loss: 0.4884 - val_acc: 0.7741\n",
      "Epoch 29/30\n",
      "100/100 [==============================] - 24s 244ms/step - loss: 0.4644 - acc: 0.7806 - val_loss: 0.4578 - val_acc: 0.7829\n",
      "Epoch 30/30\n",
      "100/100 [==============================] - 25s 246ms/step - loss: 0.4655 - acc: 0.7806 - val_loss: 0.4507 - val_acc: 0.7779\n"
     ]
    }
   ],
   "source": [
    "history = model.fit_generator(train_generator,\n",
    "                             steps_per_epoch=100,\n",
    "                             epochs=30,\n",
    "                             validation_data = validation_generator,\n",
    "                             validation_steps = 50)"
   ]
  },
  {
   "cell_type": "code",
   "execution_count": 55,
   "metadata": {},
   "outputs": [
    {
     "data": {
      "image/png": "[encoded data removed]",
      "text/plain": [
       "<Figure size 432x288 with 1 Axes>"
      ]
     },
     "metadata": {},
     "output_type": "display_data"
    },
    {
     "data": {
      "image/png": "[encoded data removed]",
      "text/plain": [
       "<Figure size 432x288 with 1 Axes>"
      ]
     },
     "metadata": {},
     "output_type": "display_data"
    }
   ],
   "source": [
    "history_dict = history.history\n",
    "acc = history_dict['acc']\n",
    "val_acc = history_dict['val_acc']\n",
    "loss = history_dict['loss']\n",
    "val_loss = history_dict['val_loss']\n",
    "\n",
    "epoches = range(1, len(val_loss) + 1)\n",
    "\n",
    "plt.plot(epoches, acc, 'bo', label='Train Acc')\n",
    "plt.plot(epoches, val_acc, 'ro', label='Validation Acc')\n",
    "plt.title(\"Train and Validation Acc\")\n",
    "plt.xlabel('Epochs')\n",
    "plt.ylabel('Acc')\n",
    "plt.legend()\n",
    "\n",
    "plt.figure()\n",
    "plt.plot(epoches, loss, 'b', label = 'Train Loss')\n",
    "plt.plot(epoches, val_loss, 'r', label = 'Validation Loss')\n",
    "plt.title(\"Train and Validation Loss\")\n",
    "plt.xlabel('Epochs')\n",
    "plt.ylabel('Loss')\n",
    "plt.legend()\n",
    "plt.show()"
   ]
  },
  {
   "cell_type": "markdown",
   "metadata": {},
   "source": [
    "- 第11轮训练在validation set上的精度就超过了之前30轮的最后精度（因为之前的训练10轮之后就出现了过拟合）\n",
    "- validation和train set上的acc基本同步上升，loss也基本同步下降，说明通过数据增强和dropout之后，训练没有出现过拟合。\n",
    "- 同样的30轮后，validation set上的acc从72.9%上升到77.8%，有明显提升。\n"
   ]
  },
  {
   "cell_type": "markdown",
   "metadata": {},
   "source": [
    "我们试一下继续训练70轮，达到100轮的结果"
   ]
  },
  {
   "cell_type": "code",
   "execution_count": 56,
   "metadata": {},
   "outputs": [
    {
     "name": "stdout",
     "output_type": "stream",
     "text": [
      "Epoch 1/70\n",
      "100/100 [==============================] - 28s 275ms/step - loss: 0.4755 - acc: 0.7719 - val_loss: 0.5916 - val_acc: 0.7100\n",
      "Epoch 2/70\n",
      "100/100 [==============================] - 25s 247ms/step - loss: 0.4656 - acc: 0.7816 - val_loss: 0.4958 - val_acc: 0.7558\n",
      "Epoch 3/70\n",
      "100/100 [==============================] - 24s 237ms/step - loss: 0.4596 - acc: 0.7838 - val_loss: 0.4756 - val_acc: 0.7665\n",
      "Epoch 4/70\n",
      "100/100 [==============================] - 24s 244ms/step - loss: 0.4495 - acc: 0.7822 - val_loss: 0.4863 - val_acc: 0.7713\n",
      "Epoch 5/70\n",
      "100/100 [==============================] - 24s 238ms/step - loss: 0.4571 - acc: 0.7772 - val_loss: 0.4573 - val_acc: 0.7805\n",
      "Epoch 6/70\n",
      "100/100 [==============================] - 28s 278ms/step - loss: 0.4612 - acc: 0.7775 - val_loss: 0.4529 - val_acc: 0.8041\n",
      "Epoch 7/70\n",
      "100/100 [==============================] - 24s 239ms/step - loss: 0.4459 - acc: 0.7906 - val_loss: 0.4710 - val_acc: 0.7779\n",
      "Epoch 8/70\n",
      "100/100 [==============================] - 25s 253ms/step - loss: 0.4488 - acc: 0.7953 - val_loss: 0.4640 - val_acc: 0.7764\n",
      "Epoch 9/70\n",
      "100/100 [==============================] - 24s 239ms/step - loss: 0.4495 - acc: 0.7947 - val_loss: 0.5090 - val_acc: 0.7784\n",
      "Epoch 10/70\n",
      "100/100 [==============================] - 24s 241ms/step - loss: 0.4340 - acc: 0.7925 - val_loss: 0.4635 - val_acc: 0.7760\n",
      "Epoch 11/70\n",
      "100/100 [==============================] - 25s 254ms/step - loss: 0.4303 - acc: 0.7991 - val_loss: 0.5000 - val_acc: 0.7584\n",
      "Epoch 12/70\n",
      "100/100 [==============================] - 24s 238ms/step - loss: 0.4471 - acc: 0.7916 - val_loss: 0.4466 - val_acc: 0.7855\n",
      "Epoch 13/70\n",
      "100/100 [==============================] - 24s 241ms/step - loss: 0.4353 - acc: 0.7963 - val_loss: 0.4311 - val_acc: 0.8080\n",
      "Epoch 14/70\n",
      "100/100 [==============================] - 24s 237ms/step - loss: 0.4341 - acc: 0.7925 - val_loss: 0.4266 - val_acc: 0.8033\n",
      "Epoch 15/70\n",
      "100/100 [==============================] - 24s 245ms/step - loss: 0.4340 - acc: 0.7937 - val_loss: 0.4309 - val_acc: 0.7970\n",
      "Epoch 16/70\n",
      "100/100 [==============================] - 25s 247ms/step - loss: 0.4272 - acc: 0.7997 - val_loss: 0.4397 - val_acc: 0.7970\n",
      "Epoch 17/70\n",
      "100/100 [==============================] - 23s 232ms/step - loss: 0.4223 - acc: 0.8044 - val_loss: 0.5084 - val_acc: 0.7576\n",
      "Epoch 18/70\n",
      "100/100 [==============================] - 29s 286ms/step - loss: 0.4234 - acc: 0.8022 - val_loss: 0.4358 - val_acc: 0.8035\n",
      "Epoch 19/70\n",
      "100/100 [==============================] - 26s 256ms/step - loss: 0.4196 - acc: 0.8019 - val_loss: 0.4688 - val_acc: 0.7843\n",
      "Epoch 20/70\n",
      "100/100 [==============================] - 24s 245ms/step - loss: 0.4125 - acc: 0.8131 - val_loss: 0.4374 - val_acc: 0.8022\n",
      "Epoch 21/70\n",
      "100/100 [==============================] - 24s 242ms/step - loss: 0.4239 - acc: 0.8041 - val_loss: 0.4224 - val_acc: 0.8135\n",
      "Epoch 22/70\n",
      "100/100 [==============================] - 24s 242ms/step - loss: 0.4060 - acc: 0.8197 - val_loss: 0.4666 - val_acc: 0.8067\n",
      "Epoch 23/70\n",
      "100/100 [==============================] - 25s 255ms/step - loss: 0.4135 - acc: 0.8034 - val_loss: 0.4719 - val_acc: 0.7855\n",
      "Epoch 24/70\n",
      "100/100 [==============================] - 25s 248ms/step - loss: 0.4159 - acc: 0.8103 - val_loss: 0.4026 - val_acc: 0.8260\n",
      "Epoch 25/70\n",
      "100/100 [==============================] - 25s 248ms/step - loss: 0.3993 - acc: 0.8194 - val_loss: 0.4331 - val_acc: 0.8177\n",
      "Epoch 26/70\n",
      "100/100 [==============================] - 25s 254ms/step - loss: 0.4031 - acc: 0.8109 - val_loss: 0.4430 - val_acc: 0.7957\n",
      "Epoch 27/70\n",
      "100/100 [==============================] - 25s 252ms/step - loss: 0.4045 - acc: 0.8206 - val_loss: 0.4447 - val_acc: 0.7848\n",
      "Epoch 28/70\n",
      "100/100 [==============================] - 26s 260ms/step - loss: 0.4042 - acc: 0.8097 - val_loss: 0.4898 - val_acc: 0.7805\n",
      "Epoch 29/70\n",
      "100/100 [==============================] - 25s 247ms/step - loss: 0.3967 - acc: 0.8250 - val_loss: 0.4551 - val_acc: 0.7893\n",
      "Epoch 30/70\n",
      "100/100 [==============================] - 25s 249ms/step - loss: 0.4031 - acc: 0.8150 - val_loss: 0.4286 - val_acc: 0.8077\n",
      "Epoch 31/70\n",
      "100/100 [==============================] - 25s 250ms/step - loss: 0.3829 - acc: 0.8316 - val_loss: 0.4500 - val_acc: 0.8131\n",
      "Epoch 32/70\n",
      "100/100 [==============================] - 25s 250ms/step - loss: 0.4022 - acc: 0.8162 - val_loss: 0.4309 - val_acc: 0.8170\n",
      "Epoch 33/70\n",
      "100/100 [==============================] - 25s 251ms/step - loss: 0.3775 - acc: 0.8222 - val_loss: 0.5757 - val_acc: 0.7386\n",
      "Epoch 34/70\n",
      "100/100 [==============================] - 25s 247ms/step - loss: 0.3892 - acc: 0.8284 - val_loss: 0.4948 - val_acc: 0.7803\n",
      "Epoch 35/70\n",
      "100/100 [==============================] - 26s 261ms/step - loss: 0.3804 - acc: 0.8266 - val_loss: 0.4088 - val_acc: 0.8261\n",
      "Epoch 36/70\n",
      "100/100 [==============================] - 26s 255ms/step - loss: 0.3730 - acc: 0.8334 - val_loss: 0.4364 - val_acc: 0.8119\n",
      "Epoch 37/70\n",
      "100/100 [==============================] - 25s 251ms/step - loss: 0.3793 - acc: 0.8284 - val_loss: 0.4361 - val_acc: 0.7982\n",
      "Epoch 38/70\n",
      "100/100 [==============================] - 26s 256ms/step - loss: 0.3625 - acc: 0.8362 - val_loss: 0.4073 - val_acc: 0.8286\n",
      "Epoch 39/70\n",
      "100/100 [==============================] - 24s 245ms/step - loss: 0.3764 - acc: 0.8272 - val_loss: 0.4434 - val_acc: 0.8160\n",
      "Epoch 40/70\n",
      "100/100 [==============================] - 25s 253ms/step - loss: 0.3797 - acc: 0.8284 - val_loss: 0.4426 - val_acc: 0.8138\n",
      "Epoch 41/70\n",
      "100/100 [==============================] - 24s 238ms/step - loss: 0.3742 - acc: 0.8266 - val_loss: 0.4338 - val_acc: 0.8099\n",
      "Epoch 42/70\n",
      "100/100 [==============================] - 24s 239ms/step - loss: 0.3795 - acc: 0.8222 - val_loss: 0.4310 - val_acc: 0.7976\n",
      "Epoch 43/70\n",
      "100/100 [==============================] - 24s 239ms/step - loss: 0.3547 - acc: 0.8481 - val_loss: 0.4090 - val_acc: 0.8312\n",
      "Epoch 44/70\n",
      "100/100 [==============================] - 24s 235ms/step - loss: 0.3687 - acc: 0.8316 - val_loss: 0.4528 - val_acc: 0.8185\n",
      "Epoch 45/70\n",
      "100/100 [==============================] - 25s 253ms/step - loss: 0.3517 - acc: 0.8434 - val_loss: 0.3919 - val_acc: 0.8318\n",
      "Epoch 46/70\n",
      "100/100 [==============================] - 24s 241ms/step - loss: 0.3657 - acc: 0.8328 - val_loss: 0.4317 - val_acc: 0.8103\n",
      "Epoch 47/70\n",
      "100/100 [==============================] - 24s 239ms/step - loss: 0.3610 - acc: 0.8438 - val_loss: 0.4607 - val_acc: 0.8086\n",
      "Epoch 48/70\n",
      "100/100 [==============================] - 24s 236ms/step - loss: 0.3590 - acc: 0.8422 - val_loss: 0.4157 - val_acc: 0.8247\n",
      "Epoch 49/70\n",
      "100/100 [==============================] - 23s 233ms/step - loss: 0.3494 - acc: 0.8484 - val_loss: 0.4459 - val_acc: 0.8280\n",
      "Epoch 50/70\n",
      "100/100 [==============================] - 24s 242ms/step - loss: 0.3486 - acc: 0.8400 - val_loss: 0.4430 - val_acc: 0.8170\n",
      "Epoch 51/70\n",
      "100/100 [==============================] - 23s 232ms/step - loss: 0.3542 - acc: 0.8447 - val_loss: 0.3806 - val_acc: 0.8395\n",
      "Epoch 52/70\n",
      "100/100 [==============================] - 26s 259ms/step - loss: 0.3569 - acc: 0.8412 - val_loss: 0.4522 - val_acc: 0.8093\n",
      "Epoch 53/70\n",
      "100/100 [==============================] - 24s 236ms/step - loss: 0.3548 - acc: 0.8453 - val_loss: 0.3925 - val_acc: 0.8338\n",
      "Epoch 54/70\n",
      "100/100 [==============================] - 24s 236ms/step - loss: 0.3575 - acc: 0.8419 - val_loss: 0.3933 - val_acc: 0.8434\n",
      "Epoch 55/70\n",
      "100/100 [==============================] - 24s 236ms/step - loss: 0.3407 - acc: 0.8497 - val_loss: 0.3880 - val_acc: 0.8363\n",
      "Epoch 56/70\n",
      "100/100 [==============================] - 24s 239ms/step - loss: 0.3392 - acc: 0.8484 - val_loss: 0.4366 - val_acc: 0.8196\n",
      "Epoch 57/70\n",
      "100/100 [==============================] - 25s 251ms/step - loss: 0.3541 - acc: 0.8463 - val_loss: 0.4956 - val_acc: 0.7829\n",
      "Epoch 58/70\n",
      "100/100 [==============================] - 23s 234ms/step - loss: 0.3381 - acc: 0.8500 - val_loss: 0.3715 - val_acc: 0.8452\n",
      "Epoch 59/70\n",
      "100/100 [==============================] - 24s 244ms/step - loss: 0.3344 - acc: 0.8556 - val_loss: 0.4210 - val_acc: 0.8305\n",
      "Epoch 60/70\n",
      "100/100 [==============================] - 23s 234ms/step - loss: 0.3332 - acc: 0.8569 - val_loss: 0.4411 - val_acc: 0.8160\n",
      "Epoch 61/70\n",
      "100/100 [==============================] - 24s 236ms/step - loss: 0.3379 - acc: 0.8550 - val_loss: 0.4037 - val_acc: 0.8305\n",
      "Epoch 62/70\n",
      "100/100 [==============================] - 24s 244ms/step - loss: 0.3392 - acc: 0.8487 - val_loss: 0.3909 - val_acc: 0.8312\n",
      "Epoch 63/70\n",
      "100/100 [==============================] - 24s 240ms/step - loss: 0.3140 - acc: 0.8691 - val_loss: 0.4313 - val_acc: 0.8338\n",
      "Epoch 64/70\n",
      "100/100 [==============================] - 24s 241ms/step - loss: 0.3202 - acc: 0.8556 - val_loss: 0.4059 - val_acc: 0.8363\n",
      "Epoch 65/70\n",
      "100/100 [==============================] - 23s 231ms/step - loss: 0.3207 - acc: 0.8575 - val_loss: 0.4553 - val_acc: 0.8268\n",
      "Epoch 66/70\n",
      "100/100 [==============================] - 24s 236ms/step - loss: 0.3373 - acc: 0.8506 - val_loss: 0.3645 - val_acc: 0.8466\n",
      "Epoch 67/70\n",
      "100/100 [==============================] - 24s 240ms/step - loss: 0.3136 - acc: 0.8591 - val_loss: 0.4511 - val_acc: 0.8255\n",
      "Epoch 68/70\n",
      "100/100 [==============================] - 24s 237ms/step - loss: 0.3119 - acc: 0.8625 - val_loss: 0.4152 - val_acc: 0.8454\n",
      "Epoch 69/70\n",
      "100/100 [==============================] - 26s 257ms/step - loss: 0.3150 - acc: 0.8587 - val_loss: 0.4299 - val_acc: 0.8217\n",
      "Epoch 70/70\n",
      "100/100 [==============================] - 24s 238ms/step - loss: 0.3189 - acc: 0.8641 - val_loss: 0.4214 - val_acc: 0.8267\n"
     ]
    }
   ],
   "source": [
    "history = model.fit_generator(train_generator,\n",
    "                             steps_per_epoch=100,\n",
    "                             epochs=70,\n",
    "                             validation_data = validation_generator,\n",
    "                             validation_steps = 50)"
   ]
  },
  {
   "cell_type": "code",
   "execution_count": 57,
   "metadata": {},
   "outputs": [
    {
     "data": {
      "image/png": "[encoded data removed]",
      "text/plain": [
       "<Figure size 432x288 with 1 Axes>"
      ]
     },
     "metadata": {},
     "output_type": "display_data"
    },
    {
     "data": {
      "image/png": "[encoded data removed]",
      "text/plain": [
       "<Figure size 432x288 with 1 Axes>"
      ]
     },
     "metadata": {},
     "output_type": "display_data"
    }
   ],
   "source": [
    "history_dict = history.history\n",
    "acc = history_dict['acc']\n",
    "val_acc = history_dict['val_acc']\n",
    "loss = history_dict['loss']\n",
    "val_loss = history_dict['val_loss']\n",
    "\n",
    "epoches = range(1, len(val_loss) + 1)\n",
    "\n",
    "plt.plot(epoches, acc, 'bo', label='Train Acc')\n",
    "plt.plot(epoches, val_acc, 'ro', label='Validation Acc')\n",
    "plt.title(\"Train and Validation Acc\")\n",
    "plt.xlabel('Epochs')\n",
    "plt.ylabel('Acc')\n",
    "plt.legend()\n",
    "\n",
    "plt.figure()\n",
    "plt.plot(epoches, loss, 'b', label = 'Train Loss')\n",
    "plt.plot(epoches, val_loss, 'r', label = 'Validation Loss')\n",
    "plt.title(\"Train and Validation Loss\")\n",
    "plt.xlabel('Epochs')\n",
    "plt.ylabel('Loss')\n",
    "plt.legend()\n",
    "plt.show()"
   ]
  }
 ],
 "metadata": {
  "kernelspec": {
   "display_name": "Python 3",
   "language": "python",
   "name": "python3"
  },
  "language_info": {
   "codemirror_mode": {
    "name": "ipython",
    "version": 3
   },
   "file_extension": ".py",
   "mimetype": "text/x-python",
   "name": "python",
   "nbconvert_exporter": "python",
   "pygments_lexer": "ipython3",
   "version": "3.6.8"
  }
 },
 "nbformat": 4,
 "nbformat_minor": 2
}
